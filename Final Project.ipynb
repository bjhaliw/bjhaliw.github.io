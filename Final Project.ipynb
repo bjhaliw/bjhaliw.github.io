{
 "cells": [
  {
   "cell_type": "markdown",
   "metadata": {},
   "source": [
    "# An Analysis of Climate Change and Natural Disasters"
   ]
  },
  {
   "cell_type": "markdown",
   "metadata": {},
   "source": [
    "Brenton Haliw"
   ]
  },
  {
   "cell_type": "markdown",
   "metadata": {},
   "source": [
    "## Introduction"
   ]
  },
  {
   "cell_type": "markdown",
   "metadata": {},
   "source": [
    "As the Earth's climate has changed over the years, we often hear of the affects that this can bring. However, what exactly is effected? Does this mean that there will be more hurricanes and tornadoes each year, or will their intesity begin to shift? Would climate change affect the number of wildfires that occur in the world? If so, by how much? In order to answer these questions, I will be comparing and contrasting the numbers to see if there is a trend and what we can expect for the future of our planet if the Earth's climate continues to change."
   ]
  },
  {
   "cell_type": "markdown",
   "metadata": {},
   "source": [
    "## Data Collection"
   ]
  },
  {
   "cell_type": "markdown",
   "metadata": {},
   "source": [
    "Our first order of business is to actually collect the data that we want to use to to make these comparisons. Therefore, a good place to start is to get the average global temperature for each year, and the number of different natural disasters that occur around the world. "
   ]
  },
  {
   "cell_type": "code",
   "execution_count": null,
   "metadata": {},
   "outputs": [],
   "source": []
  }
 ],
 "metadata": {
  "kernelspec": {
   "display_name": "Python 3",
   "language": "python",
   "name": "python3"
  },
  "language_info": {
   "codemirror_mode": {
    "name": "ipython",
    "version": 3
   },
   "file_extension": ".py",
   "mimetype": "text/x-python",
   "name": "python",
   "nbconvert_exporter": "python",
   "pygments_lexer": "ipython3",
   "version": "3.8.5"
  }
 },
 "nbformat": 4,
 "nbformat_minor": 4
}
